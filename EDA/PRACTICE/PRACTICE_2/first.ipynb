{
 "cells": [
  {
   "cell_type": "code",
   "execution_count": 2,
   "id": "9ade9396-ae64-4bfb-b43b-26d6250d521b",
   "metadata": {},
   "outputs": [],
   "source": [
    "import pandas as pd\n",
    "import numpy as np\n",
    "import seaborn as sns\n",
    "import matplotlib.pyplot as plt"
   ]
  },
  {
   "cell_type": "code",
   "execution_count": 109,
   "id": "63d28be4-3f15-41d0-a257-cb81f36188ec",
   "metadata": {},
   "outputs": [],
   "source": [
    "df = pd.read_csv(\"data.csv\", header=0, nrows = 1000)"
   ]
  },
  {
   "cell_type": "code",
   "execution_count": 111,
   "id": "87e7b704-9cd4-4ab8-9b85-0987cccd5282",
   "metadata": {},
   "outputs": [
    {
     "data": {
      "text/html": [
       "<div>\n",
       "<style scoped>\n",
       "    .dataframe tbody tr th:only-of-type {\n",
       "        vertical-align: middle;\n",
       "    }\n",
       "\n",
       "    .dataframe tbody tr th {\n",
       "        vertical-align: top;\n",
       "    }\n",
       "\n",
       "    .dataframe thead th {\n",
       "        text-align: right;\n",
       "    }\n",
       "</style>\n",
       "<table border=\"1\" class=\"dataframe\">\n",
       "  <thead>\n",
       "    <tr style=\"text-align: right;\">\n",
       "      <th></th>\n",
       "      <th>post_id</th>\n",
       "      <th>post_text</th>\n",
       "      <th>event_type</th>\n",
       "      <th>timestamp</th>\n",
       "    </tr>\n",
       "  </thead>\n",
       "  <tbody>\n",
       "    <tr>\n",
       "      <th>0</th>\n",
       "      <td>1</td>\n",
       "      <td>Cheering on our team at the cricket finals. Th...</td>\n",
       "      <td>sports_event</td>\n",
       "      <td>17-08-2025 07:02</td>\n",
       "    </tr>\n",
       "    <tr>\n",
       "      <th>1</th>\n",
       "      <td>2</td>\n",
       "      <td>The hackathon is on! My team is fueled by pizz...</td>\n",
       "      <td>hackathon</td>\n",
       "      <td>27-06-2025 21:54</td>\n",
       "    </tr>\n",
       "    <tr>\n",
       "      <th>2</th>\n",
       "      <td>3</td>\n",
       "      <td>Our basketball team made it to the regional fi...</td>\n",
       "      <td>sports_event</td>\n",
       "      <td>26-08-2025 02:15</td>\n",
       "    </tr>\n",
       "    <tr>\n",
       "      <th>3</th>\n",
       "      <td>4</td>\n",
       "      <td>And the winners of the hackathon are announced...</td>\n",
       "      <td>hackathon</td>\n",
       "      <td>04-07-2025 22:15</td>\n",
       "    </tr>\n",
       "    <tr>\n",
       "      <th>4</th>\n",
       "      <td>5</td>\n",
       "      <td>And the winners of the hackathon are announced...</td>\n",
       "      <td>hackathon</td>\n",
       "      <td>26-08-2025 05:01</td>\n",
       "    </tr>\n",
       "  </tbody>\n",
       "</table>\n",
       "</div>"
      ],
      "text/plain": [
       "   post_id                                          post_text    event_type  \\\n",
       "0        1  Cheering on our team at the cricket finals. Th...  sports_event   \n",
       "1        2  The hackathon is on! My team is fueled by pizz...     hackathon   \n",
       "2        3  Our basketball team made it to the regional fi...  sports_event   \n",
       "3        4  And the winners of the hackathon are announced...     hackathon   \n",
       "4        5  And the winners of the hackathon are announced...     hackathon   \n",
       "\n",
       "          timestamp  \n",
       "0  17-08-2025 07:02  \n",
       "1  27-06-2025 21:54  \n",
       "2  26-08-2025 02:15  \n",
       "3  04-07-2025 22:15  \n",
       "4  26-08-2025 05:01  "
      ]
     },
     "execution_count": 111,
     "metadata": {},
     "output_type": "execute_result"
    }
   ],
   "source": [
    "df.head()"
   ]
  },
  {
   "cell_type": "code",
   "execution_count": 113,
   "id": "b9066d5f-a088-4adf-a831-ef7e022444e6",
   "metadata": {},
   "outputs": [
    {
     "data": {
      "text/plain": [
       "27"
      ]
     },
     "execution_count": 113,
     "metadata": {},
     "output_type": "execute_result"
    }
   ],
   "source": [
    "df['post_text'].nunique()"
   ]
  },
  {
   "cell_type": "code",
   "execution_count": 121,
   "id": "e6539f50-e3c0-4375-b139-2e85a11d1a54",
   "metadata": {},
   "outputs": [
    {
     "name": "stdout",
     "output_type": "stream",
     "text": [
      "<class 'pandas.core.frame.DataFrame'>\n",
      "RangeIndex: 1000 entries, 0 to 999\n",
      "Data columns (total 4 columns):\n",
      " #   Column      Non-Null Count  Dtype \n",
      "---  ------      --------------  ----- \n",
      " 0   post_id     1000 non-null   int64 \n",
      " 1   post_text   1000 non-null   object\n",
      " 2   event_type  1000 non-null   object\n",
      " 3   timestamp   1000 non-null   object\n",
      "dtypes: int64(1), object(3)\n",
      "memory usage: 31.4+ KB\n"
     ]
    }
   ],
   "source": [
    "df.info()"
   ]
  },
  {
   "cell_type": "code",
   "execution_count": 123,
   "id": "ac26e49c-5f72-4f15-8dda-937780ea6e34",
   "metadata": {},
   "outputs": [
    {
     "data": {
      "text/html": [
       "<div>\n",
       "<style scoped>\n",
       "    .dataframe tbody tr th:only-of-type {\n",
       "        vertical-align: middle;\n",
       "    }\n",
       "\n",
       "    .dataframe tbody tr th {\n",
       "        vertical-align: top;\n",
       "    }\n",
       "\n",
       "    .dataframe thead th {\n",
       "        text-align: right;\n",
       "    }\n",
       "</style>\n",
       "<table border=\"1\" class=\"dataframe\">\n",
       "  <thead>\n",
       "    <tr style=\"text-align: right;\">\n",
       "      <th></th>\n",
       "      <th>post_id</th>\n",
       "      <th>post_text</th>\n",
       "      <th>event_type</th>\n",
       "      <th>timestamp</th>\n",
       "    </tr>\n",
       "  </thead>\n",
       "  <tbody>\n",
       "    <tr>\n",
       "      <th>0</th>\n",
       "      <td>1</td>\n",
       "      <td>Cheering on our team at the cricket finals. Th...</td>\n",
       "      <td>sports_event</td>\n",
       "      <td>17-08-2025 07:02</td>\n",
       "    </tr>\n",
       "    <tr>\n",
       "      <th>1</th>\n",
       "      <td>2</td>\n",
       "      <td>The hackathon is on! My team is fueled by pizz...</td>\n",
       "      <td>hackathon</td>\n",
       "      <td>27-06-2025 21:54</td>\n",
       "    </tr>\n",
       "    <tr>\n",
       "      <th>2</th>\n",
       "      <td>3</td>\n",
       "      <td>Our basketball team made it to the regional fi...</td>\n",
       "      <td>sports_event</td>\n",
       "      <td>26-08-2025 02:15</td>\n",
       "    </tr>\n",
       "    <tr>\n",
       "      <th>3</th>\n",
       "      <td>4</td>\n",
       "      <td>And the winners of the hackathon are announced...</td>\n",
       "      <td>hackathon</td>\n",
       "      <td>04-07-2025 22:15</td>\n",
       "    </tr>\n",
       "    <tr>\n",
       "      <th>4</th>\n",
       "      <td>5</td>\n",
       "      <td>And the winners of the hackathon are announced...</td>\n",
       "      <td>hackathon</td>\n",
       "      <td>26-08-2025 05:01</td>\n",
       "    </tr>\n",
       "  </tbody>\n",
       "</table>\n",
       "</div>"
      ],
      "text/plain": [
       "   post_id                                          post_text    event_type  \\\n",
       "0        1  Cheering on our team at the cricket finals. Th...  sports_event   \n",
       "1        2  The hackathon is on! My team is fueled by pizz...     hackathon   \n",
       "2        3  Our basketball team made it to the regional fi...  sports_event   \n",
       "3        4  And the winners of the hackathon are announced...     hackathon   \n",
       "4        5  And the winners of the hackathon are announced...     hackathon   \n",
       "\n",
       "          timestamp  \n",
       "0  17-08-2025 07:02  \n",
       "1  27-06-2025 21:54  \n",
       "2  26-08-2025 02:15  \n",
       "3  04-07-2025 22:15  \n",
       "4  26-08-2025 05:01  "
      ]
     },
     "execution_count": 123,
     "metadata": {},
     "output_type": "execute_result"
    }
   ],
   "source": [
    "df.head()"
   ]
  },
  {
   "cell_type": "code",
   "execution_count": 128,
   "id": "bbc58a4a-5aef-4932-b23e-f0b2bf4c58fd",
   "metadata": {},
   "outputs": [
    {
     "data": {
      "text/plain": [
       "pandas.core.frame.DataFrame"
      ]
     },
     "execution_count": 128,
     "metadata": {},
     "output_type": "execute_result"
    }
   ],
   "source": [
    "type(df)"
   ]
  },
  {
   "cell_type": "code",
   "execution_count": 154,
   "id": "a2d41997-4fb6-47be-ae38-572191042ff0",
   "metadata": {},
   "outputs": [
    {
     "data": {
      "text/plain": [
       "event_type\n",
       "hackathon        219\n",
       "sports_event     211\n",
       "other_event      198\n",
       "cultural_fest    188\n",
       "workshop         184\n",
       "Name: count, dtype: int64"
      ]
     },
     "execution_count": 154,
     "metadata": {},
     "output_type": "execute_result"
    }
   ],
   "source": [
    "plot_df = df['event_type'].value_counts()\n",
    "plot_df"
   ]
  },
  {
   "cell_type": "code",
   "execution_count": 193,
   "id": "865ce497-22c4-46cb-8fad-5ef2a892828e",
   "metadata": {},
   "outputs": [
    {
     "data": {
      "image/png": "[encoded data removed]",
      "text/plain": [
       "<Figure size 640x480 with 1 Axes>"
      ]
     },
     "metadata": {},
     "output_type": "display_data"
    }
   ],
   "source": [
    "sns.histplot(data=df[\"event_type\"], color = 'g')\n",
    "plt.xticks(rotation = 45)\n",
    "plt.show()"
   ]
  },
  {
   "cell_type": "code",
   "execution_count": 197,
   "id": "5f2e0d44-bb68-4ad1-9e8c-012e41654608",
   "metadata": {},
   "outputs": [
    {
     "data": {
      "text/html": [
       "<div>\n",
       "<style scoped>\n",
       "    .dataframe tbody tr th:only-of-type {\n",
       "        vertical-align: middle;\n",
       "    }\n",
       "\n",
       "    .dataframe tbody tr th {\n",
       "        vertical-align: top;\n",
       "    }\n",
       "\n",
       "    .dataframe thead th {\n",
       "        text-align: right;\n",
       "    }\n",
       "</style>\n",
       "<table border=\"1\" class=\"dataframe\">\n",
       "  <thead>\n",
       "    <tr style=\"text-align: right;\">\n",
       "      <th></th>\n",
       "      <th>post_id</th>\n",
       "      <th>post_text</th>\n",
       "      <th>event_type</th>\n",
       "      <th>timestamp</th>\n",
       "    </tr>\n",
       "  </thead>\n",
       "  <tbody>\n",
       "    <tr>\n",
       "      <th>0</th>\n",
       "      <td>1</td>\n",
       "      <td>Cheering on our team at the cricket finals. Th...</td>\n",
       "      <td>sports_event</td>\n",
       "      <td>17-08-2025 07:02</td>\n",
       "    </tr>\n",
       "    <tr>\n",
       "      <th>1</th>\n",
       "      <td>2</td>\n",
       "      <td>The hackathon is on! My team is fueled by pizz...</td>\n",
       "      <td>hackathon</td>\n",
       "      <td>27-06-2025 21:54</td>\n",
       "    </tr>\n",
       "    <tr>\n",
       "      <th>2</th>\n",
       "      <td>3</td>\n",
       "      <td>Our basketball team made it to the regional fi...</td>\n",
       "      <td>sports_event</td>\n",
       "      <td>26-08-2025 02:15</td>\n",
       "    </tr>\n",
       "    <tr>\n",
       "      <th>3</th>\n",
       "      <td>4</td>\n",
       "      <td>And the winners of the hackathon are announced...</td>\n",
       "      <td>hackathon</td>\n",
       "      <td>04-07-2025 22:15</td>\n",
       "    </tr>\n",
       "    <tr>\n",
       "      <th>4</th>\n",
       "      <td>5</td>\n",
       "      <td>And the winners of the hackathon are announced...</td>\n",
       "      <td>hackathon</td>\n",
       "      <td>26-08-2025 05:01</td>\n",
       "    </tr>\n",
       "  </tbody>\n",
       "</table>\n",
       "</div>"
      ],
      "text/plain": [
       "   post_id                                          post_text    event_type  \\\n",
       "0        1  Cheering on our team at the cricket finals. Th...  sports_event   \n",
       "1        2  The hackathon is on! My team is fueled by pizz...     hackathon   \n",
       "2        3  Our basketball team made it to the regional fi...  sports_event   \n",
       "3        4  And the winners of the hackathon are announced...     hackathon   \n",
       "4        5  And the winners of the hackathon are announced...     hackathon   \n",
       "\n",
       "          timestamp  \n",
       "0  17-08-2025 07:02  \n",
       "1  27-06-2025 21:54  \n",
       "2  26-08-2025 02:15  \n",
       "3  04-07-2025 22:15  \n",
       "4  26-08-2025 05:01  "
      ]
     },
     "execution_count": 197,
     "metadata": {},
     "output_type": "execute_result"
    }
   ],
   "source": [
    "df.head()"
   ]
  },
  {
   "cell_type": "code",
   "execution_count": 241,
   "id": "1116ae74-98c0-4cd7-a9e6-59ee8e1dad80",
   "metadata": {},
   "outputs": [],
   "source": [
    "text = df['post_text'].str.lower()\n",
    "text = text.str.split()"
   ]
  },
  {
   "cell_type": "code",
   "execution_count": 248,
   "id": "c4219b7c-9279-4da3-95a3-84e735ab64c4",
   "metadata": {},
   "outputs": [
    {
     "ename": "TypeError",
     "evalue": "sequence item 0: expected str instance, list found",
     "output_type": "error",
     "traceback": [
      "\u001b[1;31m---------------------------------------------------------------------------\u001b[0m",
      "\u001b[1;31mTypeError\u001b[0m                                 Traceback (most recent call last)",
      "Cell \u001b[1;32mIn[248], line 1\u001b[0m\n\u001b[1;32m----> 1\u001b[0m word \u001b[38;5;241m=\u001b[39m \u001b[38;5;124m\"\u001b[39m\u001b[38;5;124m \u001b[39m\u001b[38;5;124m\"\u001b[39m\u001b[38;5;241m.\u001b[39mjoin(text)\u001b[38;5;241m.\u001b[39mdum()\n\u001b[0;32m      2\u001b[0m word\n",
      "\u001b[1;31mTypeError\u001b[0m: sequence item 0: expected str instance, list found"
     ]
    }
   ],
   "source": [
    "word = \" \".join(text).dum()\n",
    "word"
   ]
  },
  {
   "cell_type": "code",
   "execution_count": null,
   "id": "b1509909-2477-4cea-9702-6523b09fdb97",
   "metadata": {},
   "outputs": [],
   "source": []
  }
 ],
 "metadata": {
  "kernelspec": {
   "display_name": "Python [conda env:base] *",
   "language": "python",
   "name": "conda-base-py"
  },
  "language_info": {
   "codemirror_mode": {
    "name": "ipython",
    "version": 3
   },
   "file_extension": ".py",
   "mimetype": "text/x-python",
   "name": "python",
   "nbconvert_exporter": "python",
   "pygments_lexer": "ipython3",
   "version": "3.12.3"
  }
 },
 "nbformat": 4,
 "nbformat_minor": 5
}
