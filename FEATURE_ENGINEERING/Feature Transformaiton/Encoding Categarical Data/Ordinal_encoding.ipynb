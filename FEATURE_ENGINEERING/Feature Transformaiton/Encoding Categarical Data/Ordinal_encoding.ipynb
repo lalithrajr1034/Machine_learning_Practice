{
 "cells": [
  {
   "cell_type": "code",
   "execution_count": 2,
   "id": "a900a458-1ff4-4d4c-9699-fd1c6fd96761",
   "metadata": {},
   "outputs": [],
   "source": [
    "import numpy as np\n",
    "import pandas as pd\n",
    "import seaborn as sns\n",
    "from sklearn.model_selection import train_test_split\n",
    "from sklearn.preprocessing import OrdinalEncoder"
   ]
  },
  {
   "cell_type": "code",
   "execution_count": 3,
   "id": "4d46c45b-99ed-4d0b-acb2-6a043a0d18dc",
   "metadata": {},
   "outputs": [],
   "source": [
    "# importing a data set\n",
    "df = sns.load_dataset(\"taxis\")\n",
    "df = df[[\"color\", \"payment\"]]"
   ]
  },
  {
   "cell_type": "code",
   "execution_count": 4,
   "id": "87e6682f-4bd1-4b9f-b395-1f9b9de9c583",
   "metadata": {
    "scrolled": true
   },
   "outputs": [
    {
     "data": {
      "text/plain": [
       "(       color      payment\n",
       " 5866   green  credit card\n",
       " 986   yellow  credit card\n",
       " 4714  yellow  credit card\n",
       " 6027   green  credit card\n",
       " 4024  yellow  credit card,\n",
       "        color      payment\n",
       " 2675  yellow  credit card\n",
       " 6265   green  credit card\n",
       " 4656  yellow  credit card\n",
       " 6159   green  credit card\n",
       " 2423  yellow         cash)"
      ]
     },
     "execution_count": 4,
     "metadata": {},
     "output_type": "execute_result"
    }
   ],
   "source": [
    "# Split the data\n",
    "x_train, x_test = train_test_split(df, test_size=0.2)\n",
    "x_train.head(), x_test.head()"
   ]
  },
  {
   "cell_type": "code",
   "execution_count": 5,
   "id": "ec12dd33-6625-43f0-88dc-efb8aeab5bb0",
   "metadata": {},
   "outputs": [
    {
     "data": {
      "text/plain": [
       "[array(['green', 'yellow'], dtype=object),\n",
       " array(['cash', 'credit card', nan], dtype=object)]"
      ]
     },
     "execution_count": 5,
     "metadata": {},
     "output_type": "execute_result"
    }
   ],
   "source": [
    "# Making a ordinal encoding for input columns\n",
    "ordin = OrdinalEncoder()  # categories =\n",
    "ordin.fit(x_train)\n",
    "ordin.categories_"
   ]
  },
  {
   "cell_type": "code",
   "execution_count": 6,
   "id": "42621084-d872-4779-ae33-1998d356d9fa",
   "metadata": {},
   "outputs": [
    {
     "data": {
      "text/plain": [
       "array([[1., 1.],\n",
       "       [0., 1.],\n",
       "       [1., 1.],\n",
       "       ...,\n",
       "       [1., 1.],\n",
       "       [1., 1.],\n",
       "       [1., 1.]])"
      ]
     },
     "execution_count": 6,
     "metadata": {},
     "output_type": "execute_result"
    }
   ],
   "source": [
    "ordin.transform(x_train)\n",
    "ordin.transform(x_test)"
   ]
  },
  {
   "cell_type": "code",
   "execution_count": null,
   "id": "25232a6d-a5a8-4240-a0ec-e1e37cbc844b",
   "metadata": {},
   "outputs": [],
   "source": []
  },
  {
   "cell_type": "markdown",
   "id": "dab62e9a-d0bc-49af-b160-b27505b3340e",
   "metadata": {},
   "source": [
    "<h1> Label and Ordinal encoding Both</h1>"
   ]
  },
  {
   "cell_type": "code",
   "execution_count": 9,
   "id": "7b5cee16-4e54-4fd0-8e55-ed7fd1aa1362",
   "metadata": {},
   "outputs": [],
   "source": [
    "import numpy as np\n",
    "import pandas as pd\n",
    "import seaborn as sns\n",
    "from sklearn.model_selection import train_test_split\n",
    "from sklearn.preprocessing import LabelEncoder, OrdinalEncoder"
   ]
  },
  {
   "cell_type": "code",
   "execution_count": 10,
   "id": "12f6eabf-2c84-4781-99e7-49248abe6a24",
   "metadata": {},
   "outputs": [
    {
     "data": {
      "text/html": [
       "<div>\n",
       "<style scoped>\n",
       "    .dataframe tbody tr th:only-of-type {\n",
       "        vertical-align: middle;\n",
       "    }\n",
       "\n",
       "    .dataframe tbody tr th {\n",
       "        vertical-align: top;\n",
       "    }\n",
       "\n",
       "    .dataframe thead th {\n",
       "        text-align: right;\n",
       "    }\n",
       "</style>\n",
       "<table border=\"1\" class=\"dataframe\">\n",
       "  <thead>\n",
       "    <tr style=\"text-align: right;\">\n",
       "      <th></th>\n",
       "      <th>age</th>\n",
       "      <th>gender</th>\n",
       "      <th>review</th>\n",
       "      <th>education</th>\n",
       "      <th>purchased</th>\n",
       "    </tr>\n",
       "  </thead>\n",
       "  <tbody>\n",
       "    <tr>\n",
       "      <th>0</th>\n",
       "      <td>30</td>\n",
       "      <td>Female</td>\n",
       "      <td>Average</td>\n",
       "      <td>School</td>\n",
       "      <td>No</td>\n",
       "    </tr>\n",
       "    <tr>\n",
       "      <th>1</th>\n",
       "      <td>68</td>\n",
       "      <td>Female</td>\n",
       "      <td>Poor</td>\n",
       "      <td>UG</td>\n",
       "      <td>No</td>\n",
       "    </tr>\n",
       "    <tr>\n",
       "      <th>2</th>\n",
       "      <td>70</td>\n",
       "      <td>Female</td>\n",
       "      <td>Good</td>\n",
       "      <td>PG</td>\n",
       "      <td>No</td>\n",
       "    </tr>\n",
       "    <tr>\n",
       "      <th>3</th>\n",
       "      <td>72</td>\n",
       "      <td>Female</td>\n",
       "      <td>Good</td>\n",
       "      <td>PG</td>\n",
       "      <td>No</td>\n",
       "    </tr>\n",
       "    <tr>\n",
       "      <th>4</th>\n",
       "      <td>16</td>\n",
       "      <td>Female</td>\n",
       "      <td>Average</td>\n",
       "      <td>UG</td>\n",
       "      <td>No</td>\n",
       "    </tr>\n",
       "  </tbody>\n",
       "</table>\n",
       "</div>"
      ],
      "text/plain": [
       "   age  gender   review education purchased\n",
       "0   30  Female  Average    School        No\n",
       "1   68  Female     Poor        UG        No\n",
       "2   70  Female     Good        PG        No\n",
       "3   72  Female     Good        PG        No\n",
       "4   16  Female  Average        UG        No"
      ]
     },
     "execution_count": 10,
     "metadata": {},
     "output_type": "execute_result"
    }
   ],
   "source": [
    "df = pd.read_csv(\n",
    "    \"https://raw.githubusercontent.com/campusx-official/100-days-of-machine-learning/main/day26-ordinal-encoding/customer.csv\"\n",
    ")\n",
    "df.head()"
   ]
  },
  {
   "cell_type": "code",
   "execution_count": 11,
   "id": "ccbfde9c-cdd4-4ee1-9b5b-1edc6d1fdef3",
   "metadata": {},
   "outputs": [
    {
     "data": {
      "text/html": [
       "<div>\n",
       "<style scoped>\n",
       "    .dataframe tbody tr th:only-of-type {\n",
       "        vertical-align: middle;\n",
       "    }\n",
       "\n",
       "    .dataframe tbody tr th {\n",
       "        vertical-align: top;\n",
       "    }\n",
       "\n",
       "    .dataframe thead th {\n",
       "        text-align: right;\n",
       "    }\n",
       "</style>\n",
       "<table border=\"1\" class=\"dataframe\">\n",
       "  <thead>\n",
       "    <tr style=\"text-align: right;\">\n",
       "      <th></th>\n",
       "      <th>review</th>\n",
       "      <th>education</th>\n",
       "      <th>purchased</th>\n",
       "    </tr>\n",
       "  </thead>\n",
       "  <tbody>\n",
       "    <tr>\n",
       "      <th>0</th>\n",
       "      <td>Average</td>\n",
       "      <td>School</td>\n",
       "      <td>No</td>\n",
       "    </tr>\n",
       "    <tr>\n",
       "      <th>1</th>\n",
       "      <td>Poor</td>\n",
       "      <td>UG</td>\n",
       "      <td>No</td>\n",
       "    </tr>\n",
       "  </tbody>\n",
       "</table>\n",
       "</div>"
      ],
      "text/plain": [
       "    review education purchased\n",
       "0  Average    School        No\n",
       "1     Poor        UG        No"
      ]
     },
     "execution_count": 11,
     "metadata": {},
     "output_type": "execute_result"
    }
   ],
   "source": [
    "df = df.iloc[:, 2:]\n",
    "df.head(2)"
   ]
  },
  {
   "cell_type": "code",
   "execution_count": 20,
   "id": "dd068f46-f1ac-409b-af7a-3093be432fe9",
   "metadata": {},
   "outputs": [],
   "source": [
    "x_train, x_test, y_train, y_test = train_test_split(\n",
    "    df.iloc[:, 0:-1], df.iloc[:, -1], test_size=0.2\n",
    ")"
   ]
  },
  {
   "cell_type": "code",
   "execution_count": 21,
   "id": "bd3333b4-cf0b-4f4e-a71b-d0b8ae04260b",
   "metadata": {},
   "outputs": [
    {
     "data": {
      "text/plain": [
       "(     review education\n",
       " 24  Average        PG\n",
       " 21  Average        PG\n",
       " 17     Poor        UG\n",
       " 47     Good        PG\n",
       " 10     Good        UG,\n",
       " 24    Yes\n",
       " 21     No\n",
       " 17    Yes\n",
       " 47    Yes\n",
       " 10    Yes\n",
       " Name: purchased, dtype: object)"
      ]
     },
     "execution_count": 21,
     "metadata": {},
     "output_type": "execute_result"
    }
   ],
   "source": [
    "x_train.head(), y_train.head()"
   ]
  },
  {
   "cell_type": "code",
   "execution_count": 24,
   "id": "b5680ec8-994a-46c1-9ebe-dfb8bccbd0d2",
   "metadata": {},
   "outputs": [
    {
     "data": {
      "text/plain": [
       "[array(['Poor', 'Average', 'Good'], dtype=object),\n",
       " array(['School', 'UG', 'PG'], dtype=object)]"
      ]
     },
     "execution_count": 24,
     "metadata": {},
     "output_type": "execute_result"
    }
   ],
   "source": [
    "# OrdinalEncoding\n",
    "oe = OrdinalEncoder(categories=[[\"Poor\", \"Average\", \"Good\"], [\"School\", \"UG\", \"PG\"]]) \n",
    "oe.fit(x_train)\n",
    "oe.categories_"
   ]
  },
  {
   "cell_type": "code",
   "execution_count": 26,
   "id": "c727aee3-e85a-4e0b-97b3-37d3b4e868cf",
   "metadata": {},
   "outputs": [],
   "source": [
    "x_train = oe.transform(x_train)\n",
    "x_test = oe.transform(x_test)"
   ]
  },
  {
   "cell_type": "code",
   "execution_count": 28,
   "id": "3c7195f2-31bf-4f3a-9244-cef04dafb7ff",
   "metadata": {},
   "outputs": [],
   "source": [
    "# x_train, x_test"
   ]
  },
  {
   "cell_type": "code",
   "execution_count": 30,
   "id": "782f586a-c6e7-427b-8791-057860e2c82f",
   "metadata": {},
   "outputs": [
    {
     "data": {
      "text/plain": [
       "array(['No', 'Yes'], dtype=object)"
      ]
     },
     "execution_count": 30,
     "metadata": {},
     "output_type": "execute_result"
    }
   ],
   "source": [
    "# LabelEncoding\n",
    "lbl = LabelEncoder()\n",
    "lbl.fit(y_train)\n",
    "lbl.classes_"
   ]
  },
  {
   "cell_type": "code",
   "execution_count": 32,
   "id": "ae6cfd9b-8383-4bc8-b9a8-9625623be83a",
   "metadata": {},
   "outputs": [],
   "source": [
    "y_train = lbl.transform(y_train)\n",
    "y_test = lbl.transform(y_test)"
   ]
  },
  {
   "cell_type": "code",
   "execution_count": 34,
   "id": "1be16424-343d-40dc-b606-6f32f2889d6c",
   "metadata": {},
   "outputs": [
    {
     "data": {
      "text/plain": [
       "(array([1, 0, 1, 1, 1, 0, 1, 1, 0, 0, 1, 0, 1, 1, 0, 0, 0, 0, 0, 0, 1, 1,\n",
       "        0, 1, 1, 0, 0, 0, 1, 1, 0, 0, 0, 0, 1, 0, 1, 0, 1, 0]),\n",
       " array([1, 1, 0, 1, 0, 0, 0, 1, 1, 1]))"
      ]
     },
     "execution_count": 34,
     "metadata": {},
     "output_type": "execute_result"
    }
   ],
   "source": [
    "y_train, y_test"
   ]
  },
  {
   "cell_type": "markdown",
   "id": "b0962a44-9d0e-472b-8663-d7a4c0ae4ff0",
   "metadata": {},
   "source": [
    "<h2>Encoded columns</h2>"
   ]
  },
  {
   "cell_type": "code",
   "execution_count": 55,
   "id": "273d1430-1543-42e0-a56f-39c6eac6eeba",
   "metadata": {
    "collapsed": true,
    "jupyter": {
     "outputs_hidden": true
    }
   },
   "outputs": [
    {
     "name": "stdout",
     "output_type": "stream",
     "text": [
      "[1.0, 2.0] : 1\n",
      "[1.0, 2.0] : 0\n",
      "[0.0, 1.0] : 1\n",
      "[2.0, 2.0] : 1\n",
      "[2.0, 1.0] : 1\n",
      "[2.0, 0.0] : 0\n",
      "[2.0, 1.0] : 1\n",
      "[2.0, 1.0] : 1\n",
      "[2.0, 0.0] : 0\n",
      "[0.0, 1.0] : 0\n",
      "[1.0, 1.0] : 1\n",
      "[1.0, 0.0] : 0\n",
      "[0.0, 0.0] : 1\n",
      "[2.0, 2.0] : 1\n",
      "[0.0, 2.0] : 0\n",
      "[0.0, 0.0] : 0\n",
      "[1.0, 1.0] : 0\n",
      "[0.0, 2.0] : 0\n",
      "[1.0, 1.0] : 0\n",
      "[2.0, 0.0] : 0\n",
      "[0.0, 1.0] : 1\n",
      "[1.0, 1.0] : 1\n",
      "[1.0, 0.0] : 0\n",
      "[0.0, 2.0] : 1\n",
      "[0.0, 2.0] : 1\n",
      "[1.0, 1.0] : 0\n",
      "[2.0, 0.0] : 0\n",
      "[0.0, 1.0] : 0\n",
      "[0.0, 2.0] : 1\n",
      "[1.0, 2.0] : 1\n",
      "[1.0, 1.0] : 0\n",
      "[0.0, 2.0] : 0\n",
      "[2.0, 0.0] : 0\n",
      "[2.0, 1.0] : 0\n",
      "[2.0, 2.0] : 1\n",
      "[0.0, 2.0] : 0\n",
      "[0.0, 2.0] : 1\n",
      "[1.0, 0.0] : 0\n",
      "[2.0, 2.0] : 1\n",
      "[2.0, 2.0] : 0\n"
     ]
    }
   ],
   "source": [
    "for i in range(0, len(x_train)):\n",
    "    print(f'{x_train[i].tolist()} : {y_train[i].tolist()}')"
   ]
  }
 ],
 "metadata": {
  "kernelspec": {
   "display_name": "Python 3 (ipykernel)",
   "language": "python",
   "name": "python3"
  },
  "language_info": {
   "codemirror_mode": {
    "name": "ipython",
    "version": 3
   },
   "file_extension": ".py",
   "mimetype": "text/x-python",
   "name": "python",
   "nbconvert_exporter": "python",
   "pygments_lexer": "ipython3",
   "version": "3.12.3"
  }
 },
 "nbformat": 4,
 "nbformat_minor": 5
}
