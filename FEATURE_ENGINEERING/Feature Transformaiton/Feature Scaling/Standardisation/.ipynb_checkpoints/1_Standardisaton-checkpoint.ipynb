{
 "cells": [
  {
   "cell_type": "code",
   "execution_count": 2,
   "id": "5a1d3994-0072-4fcb-b6f8-3eb18ffce2aa",
   "metadata": {},
   "outputs": [],
   "source": [
    "# Standardization are also called as Z-score normalization"
   ]
  },
  {
   "cell_type": "code",
   "execution_count": 4,
   "id": "dab866ca-6519-4a3e-a82b-057c8384c4dc",
   "metadata": {},
   "outputs": [],
   "source": [
    "# standardisation = (Xi - mean(X)/std(Xi))"
   ]
  },
  {
   "cell_type": "code",
   "execution_count": null,
   "id": "e1914781-83c6-4db7-879c-5a0fc5adef74",
   "metadata": {},
   "outputs": [],
   "source": [
    "\"\"\"When to use a standardisation \"\"\"\n",
    "# k-means ,KNN ,PCA, ANN(artificial neural network), Gradient Descent"
   ]
  }
 ],
 "metadata": {
  "kernelspec": {
   "display_name": "Python [conda env:base] *",
   "language": "python",
   "name": "conda-base-py"
  },
  "language_info": {
   "codemirror_mode": {
    "name": "ipython",
    "version": 3
   },
   "file_extension": ".py",
   "mimetype": "text/x-python",
   "name": "python",
   "nbconvert_exporter": "python",
   "pygments_lexer": "ipython3",
   "version": "3.12.3"
  }
 },
 "nbformat": 4,
 "nbformat_minor": 5
}
