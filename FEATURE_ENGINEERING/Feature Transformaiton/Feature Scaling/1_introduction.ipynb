{
 "cells": [
  {
   "cell_type": "code",
   "execution_count": 3,
   "id": "cb66173e-ea0f-4ad2-9cb9-584cbf32f84a",
   "metadata": {},
   "outputs": [],
   "source": [
    "# Feature_Scaling is a technique used to reduce the size of a feature of independent variable to maintain the model accuracy"
   ]
  },
  {
   "cell_type": "markdown",
   "id": "c92f01c3-a02c-4b7e-b4dd-5a328e442f24",
   "metadata": {},
   "source": [
    "<h3>Types of Feature Scaling</h3><br>\n",
    "1. standardisation <br>\n",
    "2. Normalisation"
   ]
  }
 ],
 "metadata": {
  "kernelspec": {
   "display_name": "Python [conda env:base] *",
   "language": "python",
   "name": "conda-base-py"
  },
  "language_info": {
   "codemirror_mode": {
    "name": "ipython",
    "version": 3
   },
   "file_extension": ".py",
   "mimetype": "text/x-python",
   "name": "python",
   "nbconvert_exporter": "python",
   "pygments_lexer": "ipython3",
   "version": "3.12.3"
  }
 },
 "nbformat": 4,
 "nbformat_minor": 5
}
